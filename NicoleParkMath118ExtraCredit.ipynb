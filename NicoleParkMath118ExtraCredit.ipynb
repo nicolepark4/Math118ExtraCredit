{
 "cells": [
  {
   "cell_type": "markdown",
   "id": "33444836",
   "metadata": {},
   "source": [
    "## Math 118 Extra Credit"
   ]
  },
  {
   "cell_type": "markdown",
   "id": "25df21f7",
   "metadata": {},
   "source": [
    "### Multinomial Logistic Regression"
   ]
  },
  {
   "cell_type": "code",
   "execution_count": 1,
   "id": "daa67c59",
   "metadata": {},
   "outputs": [],
   "source": [
    "# Import libraries\n",
    "import numpy as np\n",
    "import pandas as pd\n",
    "import matplotlib.pyplot as plt\n",
    "import seaborn as sns\n",
    "from sklearn.linear_model import LogisticRegression\n",
    "from sklearn.preprocessing import StandardScaler\n",
    "from sklearn.model_selection import cross_val_score, train_test_split\n",
    "import math"
   ]
  },
  {
   "cell_type": "markdown",
   "id": "5a8b027a",
   "metadata": {},
   "source": [
    "Goal: predict disease class from the data. \\\n",
    "We will be using multinomial logistic regression.\n",
    "Dataset can be found at: https://archive.ics.uci.edu/ml/datasets/dermatology"
   ]
  },
  {
   "cell_type": "code",
   "execution_count": 2,
   "id": "fa3938b8",
   "metadata": {
    "scrolled": false
   },
   "outputs": [
    {
     "data": {
      "text/html": [
       "<div>\n",
       "<style scoped>\n",
       "    .dataframe tbody tr th:only-of-type {\n",
       "        vertical-align: middle;\n",
       "    }\n",
       "\n",
       "    .dataframe tbody tr th {\n",
       "        vertical-align: top;\n",
       "    }\n",
       "\n",
       "    .dataframe thead th {\n",
       "        text-align: right;\n",
       "    }\n",
       "</style>\n",
       "<table border=\"1\" class=\"dataframe\">\n",
       "  <thead>\n",
       "    <tr style=\"text-align: right;\">\n",
       "      <th></th>\n",
       "      <th>2</th>\n",
       "      <th>2.1</th>\n",
       "      <th>0</th>\n",
       "      <th>3</th>\n",
       "      <th>0.1</th>\n",
       "      <th>0.2</th>\n",
       "      <th>0.3</th>\n",
       "      <th>0.4</th>\n",
       "      <th>1</th>\n",
       "      <th>0.5</th>\n",
       "      <th>...</th>\n",
       "      <th>0.19</th>\n",
       "      <th>0.20</th>\n",
       "      <th>3.2</th>\n",
       "      <th>0.21</th>\n",
       "      <th>0.22</th>\n",
       "      <th>0.23</th>\n",
       "      <th>1.1</th>\n",
       "      <th>0.24</th>\n",
       "      <th>55</th>\n",
       "      <th>2.3</th>\n",
       "    </tr>\n",
       "  </thead>\n",
       "  <tbody>\n",
       "    <tr>\n",
       "      <th>0</th>\n",
       "      <td>3</td>\n",
       "      <td>3</td>\n",
       "      <td>3</td>\n",
       "      <td>2</td>\n",
       "      <td>1</td>\n",
       "      <td>0</td>\n",
       "      <td>0</td>\n",
       "      <td>0</td>\n",
       "      <td>1</td>\n",
       "      <td>1</td>\n",
       "      <td>...</td>\n",
       "      <td>0</td>\n",
       "      <td>0</td>\n",
       "      <td>0</td>\n",
       "      <td>0</td>\n",
       "      <td>0</td>\n",
       "      <td>0</td>\n",
       "      <td>1</td>\n",
       "      <td>0</td>\n",
       "      <td>8</td>\n",
       "      <td>1</td>\n",
       "    </tr>\n",
       "    <tr>\n",
       "      <th>1</th>\n",
       "      <td>2</td>\n",
       "      <td>1</td>\n",
       "      <td>2</td>\n",
       "      <td>3</td>\n",
       "      <td>1</td>\n",
       "      <td>3</td>\n",
       "      <td>0</td>\n",
       "      <td>3</td>\n",
       "      <td>0</td>\n",
       "      <td>0</td>\n",
       "      <td>...</td>\n",
       "      <td>0</td>\n",
       "      <td>2</td>\n",
       "      <td>3</td>\n",
       "      <td>2</td>\n",
       "      <td>0</td>\n",
       "      <td>0</td>\n",
       "      <td>2</td>\n",
       "      <td>3</td>\n",
       "      <td>26</td>\n",
       "      <td>3</td>\n",
       "    </tr>\n",
       "    <tr>\n",
       "      <th>2</th>\n",
       "      <td>2</td>\n",
       "      <td>2</td>\n",
       "      <td>2</td>\n",
       "      <td>0</td>\n",
       "      <td>0</td>\n",
       "      <td>0</td>\n",
       "      <td>0</td>\n",
       "      <td>0</td>\n",
       "      <td>3</td>\n",
       "      <td>2</td>\n",
       "      <td>...</td>\n",
       "      <td>3</td>\n",
       "      <td>0</td>\n",
       "      <td>0</td>\n",
       "      <td>0</td>\n",
       "      <td>0</td>\n",
       "      <td>0</td>\n",
       "      <td>3</td>\n",
       "      <td>0</td>\n",
       "      <td>40</td>\n",
       "      <td>1</td>\n",
       "    </tr>\n",
       "    <tr>\n",
       "      <th>3</th>\n",
       "      <td>2</td>\n",
       "      <td>3</td>\n",
       "      <td>2</td>\n",
       "      <td>2</td>\n",
       "      <td>2</td>\n",
       "      <td>2</td>\n",
       "      <td>0</td>\n",
       "      <td>2</td>\n",
       "      <td>0</td>\n",
       "      <td>0</td>\n",
       "      <td>...</td>\n",
       "      <td>2</td>\n",
       "      <td>3</td>\n",
       "      <td>2</td>\n",
       "      <td>3</td>\n",
       "      <td>0</td>\n",
       "      <td>0</td>\n",
       "      <td>2</td>\n",
       "      <td>3</td>\n",
       "      <td>45</td>\n",
       "      <td>3</td>\n",
       "    </tr>\n",
       "    <tr>\n",
       "      <th>4</th>\n",
       "      <td>2</td>\n",
       "      <td>3</td>\n",
       "      <td>2</td>\n",
       "      <td>0</td>\n",
       "      <td>0</td>\n",
       "      <td>0</td>\n",
       "      <td>0</td>\n",
       "      <td>0</td>\n",
       "      <td>0</td>\n",
       "      <td>0</td>\n",
       "      <td>...</td>\n",
       "      <td>0</td>\n",
       "      <td>0</td>\n",
       "      <td>2</td>\n",
       "      <td>0</td>\n",
       "      <td>0</td>\n",
       "      <td>0</td>\n",
       "      <td>1</td>\n",
       "      <td>0</td>\n",
       "      <td>41</td>\n",
       "      <td>2</td>\n",
       "    </tr>\n",
       "  </tbody>\n",
       "</table>\n",
       "<p>5 rows × 35 columns</p>\n",
       "</div>"
      ],
      "text/plain": [
       "   2  2.1  0  3  0.1  0.2  0.3  0.4  1  0.5  ...  0.19  0.20  3.2  0.21  0.22  \\\n",
       "0  3    3  3  2    1    0    0    0  1    1  ...     0     0    0     0     0   \n",
       "1  2    1  2  3    1    3    0    3  0    0  ...     0     2    3     2     0   \n",
       "2  2    2  2  0    0    0    0    0  3    2  ...     3     0    0     0     0   \n",
       "3  2    3  2  2    2    2    0    2  0    0  ...     2     3    2     3     0   \n",
       "4  2    3  2  0    0    0    0    0  0    0  ...     0     0    2     0     0   \n",
       "\n",
       "   0.23  1.1  0.24  55  2.3  \n",
       "0     0    1     0   8    1  \n",
       "1     0    2     3  26    3  \n",
       "2     0    3     0  40    1  \n",
       "3     0    2     3  45    3  \n",
       "4     0    1     0  41    2  \n",
       "\n",
       "[5 rows x 35 columns]"
      ]
     },
     "execution_count": 2,
     "metadata": {},
     "output_type": "execute_result"
    }
   ],
   "source": [
    "# Pre-processing\n",
    "# dermatology.csv can be found in the GitHub\n",
    "derm_data = pd.read_csv(\"dermatology.csv\", delimiter = ',')\n",
    "derm_data.head()"
   ]
  },
  {
   "cell_type": "code",
   "execution_count": 3,
   "id": "dda54275",
   "metadata": {},
   "outputs": [],
   "source": [
    "# We change the column names to make the data interpretable.\n",
    "colnames = ['erythema', 'scaling', 'definite borders', \n",
    "            'itching', 'koeber phenomenon', 'polygonal papules', 'follicular papules', 'oral mucosal involvement', \n",
    "            'knee and elbow invovlement', 'scalp involvement', 'family history', 'mealnin incontinence', \n",
    "            'eosinophils in the infiltrate', 'PNL infiltrate', 'fibrosis of the papillary dermis', \n",
    "            'exocytosis', 'acanthosis', 'hyperkeratosis', 'parakeratosis', 'dlubbing of the rete ridges', \n",
    "            'elongation of rete ridges', 'thinning of the suprapapillary epidermis', 'spongifrom pustule', 'munor microabcess', 'focal hypergranulosis',\n",
    "           'disappearnce of the granular layer', 'vaculoisation and damage of basil layer', 'spongiosis', 'saw-tooth appearnce of retes', 'follicular horn plug',\n",
    "           'perifollicular parakeratosis', 'inflammatory monoluclear infiltrate', 'band-like infiltrate', 'Age(linear)', 'Classcode']"
   ]
  },
  {
   "cell_type": "code",
   "execution_count": 4,
   "id": "aa435fbc",
   "metadata": {},
   "outputs": [],
   "source": [
    "derm_data.columns = colnames"
   ]
  },
  {
   "cell_type": "code",
   "execution_count": 5,
   "id": "47f00a14",
   "metadata": {
    "scrolled": false
   },
   "outputs": [
    {
     "name": "stderr",
     "output_type": "stream",
     "text": [
      "/var/folders/65/v5r0sb7x0sx44yw1wmchmv6c0000gn/T/ipykernel_6625/362132942.py:6: FutureWarning: The default value of numeric_only in DataFrame.mean is deprecated. In a future version, it will default to False. In addition, specifying 'numeric_only=None' is deprecated. Select only valid columns or specify the value of numeric_only to silence this warning.\n",
      "  derm_data[['Age(linear)']].fillna(value=derm_data[['Age(linear)']].mean(),inplace=True)\n"
     ]
    }
   ],
   "source": [
    "# Remove all NA's from data\n",
    "for k in range(derm_data.shape[0]):\n",
    "    for i in range(derm_data.shape[1]):\n",
    "        if (derm_data.iloc[k,i] == '?'):\n",
    "            derm_data.iloc[k,i] = 'nan'\n",
    "derm_data[['Age(linear)']].fillna(value=derm_data[['Age(linear)']].mean(),inplace=True)"
   ]
  },
  {
   "cell_type": "code",
   "execution_count": 6,
   "id": "9937f030",
   "metadata": {
    "scrolled": false
   },
   "outputs": [
    {
     "data": {
      "text/html": [
       "<div>\n",
       "<style scoped>\n",
       "    .dataframe tbody tr th:only-of-type {\n",
       "        vertical-align: middle;\n",
       "    }\n",
       "\n",
       "    .dataframe tbody tr th {\n",
       "        vertical-align: top;\n",
       "    }\n",
       "\n",
       "    .dataframe thead th {\n",
       "        text-align: right;\n",
       "    }\n",
       "</style>\n",
       "<table border=\"1\" class=\"dataframe\">\n",
       "  <thead>\n",
       "    <tr style=\"text-align: right;\">\n",
       "      <th></th>\n",
       "      <th>erythema</th>\n",
       "      <th>scaling</th>\n",
       "      <th>definite borders</th>\n",
       "      <th>itching</th>\n",
       "      <th>koeber phenomenon</th>\n",
       "      <th>polygonal papules</th>\n",
       "      <th>follicular papules</th>\n",
       "      <th>oral mucosal involvement</th>\n",
       "      <th>knee and elbow invovlement</th>\n",
       "      <th>scalp involvement</th>\n",
       "      <th>...</th>\n",
       "      <th>disappearnce of the granular layer</th>\n",
       "      <th>vaculoisation and damage of basil layer</th>\n",
       "      <th>spongiosis</th>\n",
       "      <th>saw-tooth appearnce of retes</th>\n",
       "      <th>follicular horn plug</th>\n",
       "      <th>perifollicular parakeratosis</th>\n",
       "      <th>inflammatory monoluclear infiltrate</th>\n",
       "      <th>band-like infiltrate</th>\n",
       "      <th>Age(linear)</th>\n",
       "      <th>Classcode</th>\n",
       "    </tr>\n",
       "  </thead>\n",
       "  <tbody>\n",
       "    <tr>\n",
       "      <th>0</th>\n",
       "      <td>3</td>\n",
       "      <td>3</td>\n",
       "      <td>3</td>\n",
       "      <td>2</td>\n",
       "      <td>1</td>\n",
       "      <td>0</td>\n",
       "      <td>0</td>\n",
       "      <td>0</td>\n",
       "      <td>1</td>\n",
       "      <td>1</td>\n",
       "      <td>...</td>\n",
       "      <td>0</td>\n",
       "      <td>0</td>\n",
       "      <td>0</td>\n",
       "      <td>0</td>\n",
       "      <td>0</td>\n",
       "      <td>0</td>\n",
       "      <td>1</td>\n",
       "      <td>0</td>\n",
       "      <td>8</td>\n",
       "      <td>1</td>\n",
       "    </tr>\n",
       "    <tr>\n",
       "      <th>1</th>\n",
       "      <td>2</td>\n",
       "      <td>1</td>\n",
       "      <td>2</td>\n",
       "      <td>3</td>\n",
       "      <td>1</td>\n",
       "      <td>3</td>\n",
       "      <td>0</td>\n",
       "      <td>3</td>\n",
       "      <td>0</td>\n",
       "      <td>0</td>\n",
       "      <td>...</td>\n",
       "      <td>0</td>\n",
       "      <td>2</td>\n",
       "      <td>3</td>\n",
       "      <td>2</td>\n",
       "      <td>0</td>\n",
       "      <td>0</td>\n",
       "      <td>2</td>\n",
       "      <td>3</td>\n",
       "      <td>26</td>\n",
       "      <td>3</td>\n",
       "    </tr>\n",
       "    <tr>\n",
       "      <th>2</th>\n",
       "      <td>2</td>\n",
       "      <td>2</td>\n",
       "      <td>2</td>\n",
       "      <td>0</td>\n",
       "      <td>0</td>\n",
       "      <td>0</td>\n",
       "      <td>0</td>\n",
       "      <td>0</td>\n",
       "      <td>3</td>\n",
       "      <td>2</td>\n",
       "      <td>...</td>\n",
       "      <td>3</td>\n",
       "      <td>0</td>\n",
       "      <td>0</td>\n",
       "      <td>0</td>\n",
       "      <td>0</td>\n",
       "      <td>0</td>\n",
       "      <td>3</td>\n",
       "      <td>0</td>\n",
       "      <td>40</td>\n",
       "      <td>1</td>\n",
       "    </tr>\n",
       "    <tr>\n",
       "      <th>3</th>\n",
       "      <td>2</td>\n",
       "      <td>3</td>\n",
       "      <td>2</td>\n",
       "      <td>2</td>\n",
       "      <td>2</td>\n",
       "      <td>2</td>\n",
       "      <td>0</td>\n",
       "      <td>2</td>\n",
       "      <td>0</td>\n",
       "      <td>0</td>\n",
       "      <td>...</td>\n",
       "      <td>2</td>\n",
       "      <td>3</td>\n",
       "      <td>2</td>\n",
       "      <td>3</td>\n",
       "      <td>0</td>\n",
       "      <td>0</td>\n",
       "      <td>2</td>\n",
       "      <td>3</td>\n",
       "      <td>45</td>\n",
       "      <td>3</td>\n",
       "    </tr>\n",
       "    <tr>\n",
       "      <th>4</th>\n",
       "      <td>2</td>\n",
       "      <td>3</td>\n",
       "      <td>2</td>\n",
       "      <td>0</td>\n",
       "      <td>0</td>\n",
       "      <td>0</td>\n",
       "      <td>0</td>\n",
       "      <td>0</td>\n",
       "      <td>0</td>\n",
       "      <td>0</td>\n",
       "      <td>...</td>\n",
       "      <td>0</td>\n",
       "      <td>0</td>\n",
       "      <td>2</td>\n",
       "      <td>0</td>\n",
       "      <td>0</td>\n",
       "      <td>0</td>\n",
       "      <td>1</td>\n",
       "      <td>0</td>\n",
       "      <td>41</td>\n",
       "      <td>2</td>\n",
       "    </tr>\n",
       "  </tbody>\n",
       "</table>\n",
       "<p>5 rows × 35 columns</p>\n",
       "</div>"
      ],
      "text/plain": [
       "   erythema  scaling  definite borders  itching  koeber phenomenon  \\\n",
       "0         3        3                 3        2                  1   \n",
       "1         2        1                 2        3                  1   \n",
       "2         2        2                 2        0                  0   \n",
       "3         2        3                 2        2                  2   \n",
       "4         2        3                 2        0                  0   \n",
       "\n",
       "   polygonal papules  follicular papules  oral mucosal involvement  \\\n",
       "0                  0                   0                         0   \n",
       "1                  3                   0                         3   \n",
       "2                  0                   0                         0   \n",
       "3                  2                   0                         2   \n",
       "4                  0                   0                         0   \n",
       "\n",
       "   knee and elbow invovlement  scalp involvement  ...  \\\n",
       "0                           1                  1  ...   \n",
       "1                           0                  0  ...   \n",
       "2                           3                  2  ...   \n",
       "3                           0                  0  ...   \n",
       "4                           0                  0  ...   \n",
       "\n",
       "   disappearnce of the granular layer  \\\n",
       "0                                   0   \n",
       "1                                   0   \n",
       "2                                   3   \n",
       "3                                   2   \n",
       "4                                   0   \n",
       "\n",
       "   vaculoisation and damage of basil layer  spongiosis  \\\n",
       "0                                        0           0   \n",
       "1                                        2           3   \n",
       "2                                        0           0   \n",
       "3                                        3           2   \n",
       "4                                        0           2   \n",
       "\n",
       "   saw-tooth appearnce of retes  follicular horn plug  \\\n",
       "0                             0                     0   \n",
       "1                             2                     0   \n",
       "2                             0                     0   \n",
       "3                             3                     0   \n",
       "4                             0                     0   \n",
       "\n",
       "   perifollicular parakeratosis  inflammatory monoluclear infiltrate  \\\n",
       "0                             0                                    1   \n",
       "1                             0                                    2   \n",
       "2                             0                                    3   \n",
       "3                             0                                    2   \n",
       "4                             0                                    1   \n",
       "\n",
       "   band-like infiltrate  Age(linear)  Classcode  \n",
       "0                     0            8          1  \n",
       "1                     3           26          3  \n",
       "2                     0           40          1  \n",
       "3                     3           45          3  \n",
       "4                     0           41          2  \n",
       "\n",
       "[5 rows x 35 columns]"
      ]
     },
     "execution_count": 6,
     "metadata": {},
     "output_type": "execute_result"
    }
   ],
   "source": [
    "derm_data.head()"
   ]
  },
  {
   "cell_type": "markdown",
   "id": "66814973",
   "metadata": {},
   "source": [
    "Since logistic regression tries to find a linear boundary between classes in our data, we will first try to visualize our data."
   ]
  },
  {
   "cell_type": "code",
   "execution_count": 7,
   "id": "75bcceea",
   "metadata": {
    "scrolled": true
   },
   "outputs": [
    {
     "data": {
      "text/html": [
       "<div>\n",
       "<style scoped>\n",
       "    .dataframe tbody tr th:only-of-type {\n",
       "        vertical-align: middle;\n",
       "    }\n",
       "\n",
       "    .dataframe tbody tr th {\n",
       "        vertical-align: top;\n",
       "    }\n",
       "\n",
       "    .dataframe thead th {\n",
       "        text-align: right;\n",
       "    }\n",
       "</style>\n",
       "<table border=\"1\" class=\"dataframe\">\n",
       "  <thead>\n",
       "    <tr style=\"text-align: right;\">\n",
       "      <th></th>\n",
       "      <th>erythema</th>\n",
       "      <th>scaling</th>\n",
       "      <th>definite borders</th>\n",
       "      <th>itching</th>\n",
       "      <th>koeber phenomenon</th>\n",
       "      <th>polygonal papules</th>\n",
       "      <th>follicular papules</th>\n",
       "      <th>oral mucosal involvement</th>\n",
       "      <th>knee and elbow invovlement</th>\n",
       "      <th>scalp involvement</th>\n",
       "      <th>...</th>\n",
       "      <th>focal hypergranulosis</th>\n",
       "      <th>disappearnce of the granular layer</th>\n",
       "      <th>vaculoisation and damage of basil layer</th>\n",
       "      <th>spongiosis</th>\n",
       "      <th>saw-tooth appearnce of retes</th>\n",
       "      <th>follicular horn plug</th>\n",
       "      <th>perifollicular parakeratosis</th>\n",
       "      <th>inflammatory monoluclear infiltrate</th>\n",
       "      <th>band-like infiltrate</th>\n",
       "      <th>Classcode</th>\n",
       "    </tr>\n",
       "  </thead>\n",
       "  <tbody>\n",
       "    <tr>\n",
       "      <th>count</th>\n",
       "      <td>365.000000</td>\n",
       "      <td>365.000000</td>\n",
       "      <td>365.000000</td>\n",
       "      <td>365.000000</td>\n",
       "      <td>365.000000</td>\n",
       "      <td>365.000000</td>\n",
       "      <td>365.000000</td>\n",
       "      <td>365.000000</td>\n",
       "      <td>365.000000</td>\n",
       "      <td>365.000000</td>\n",
       "      <td>...</td>\n",
       "      <td>365.000000</td>\n",
       "      <td>365.000000</td>\n",
       "      <td>365.000000</td>\n",
       "      <td>365.000000</td>\n",
       "      <td>365.000000</td>\n",
       "      <td>365.000000</td>\n",
       "      <td>365.000000</td>\n",
       "      <td>365.000000</td>\n",
       "      <td>365.000000</td>\n",
       "      <td>365.000000</td>\n",
       "    </tr>\n",
       "    <tr>\n",
       "      <th>mean</th>\n",
       "      <td>2.068493</td>\n",
       "      <td>1.794521</td>\n",
       "      <td>1.553425</td>\n",
       "      <td>1.361644</td>\n",
       "      <td>0.635616</td>\n",
       "      <td>0.449315</td>\n",
       "      <td>0.167123</td>\n",
       "      <td>0.378082</td>\n",
       "      <td>0.613699</td>\n",
       "      <td>0.520548</td>\n",
       "      <td>...</td>\n",
       "      <td>0.394521</td>\n",
       "      <td>0.465753</td>\n",
       "      <td>0.457534</td>\n",
       "      <td>0.947945</td>\n",
       "      <td>0.454795</td>\n",
       "      <td>0.104110</td>\n",
       "      <td>0.115068</td>\n",
       "      <td>1.868493</td>\n",
       "      <td>0.556164</td>\n",
       "      <td>2.805479</td>\n",
       "    </tr>\n",
       "    <tr>\n",
       "      <th>std</th>\n",
       "      <td>0.665656</td>\n",
       "      <td>0.702408</td>\n",
       "      <td>0.905126</td>\n",
       "      <td>1.136632</td>\n",
       "      <td>0.908653</td>\n",
       "      <td>0.958353</td>\n",
       "      <td>0.571304</td>\n",
       "      <td>0.835057</td>\n",
       "      <td>0.984120</td>\n",
       "      <td>0.906472</td>\n",
       "      <td>...</td>\n",
       "      <td>0.850322</td>\n",
       "      <td>0.865743</td>\n",
       "      <td>0.955884</td>\n",
       "      <td>1.126615</td>\n",
       "      <td>0.955758</td>\n",
       "      <td>0.451018</td>\n",
       "      <td>0.489357</td>\n",
       "      <td>0.725682</td>\n",
       "      <td>1.107044</td>\n",
       "      <td>1.599441</td>\n",
       "    </tr>\n",
       "    <tr>\n",
       "      <th>min</th>\n",
       "      <td>0.000000</td>\n",
       "      <td>0.000000</td>\n",
       "      <td>0.000000</td>\n",
       "      <td>0.000000</td>\n",
       "      <td>0.000000</td>\n",
       "      <td>0.000000</td>\n",
       "      <td>0.000000</td>\n",
       "      <td>0.000000</td>\n",
       "      <td>0.000000</td>\n",
       "      <td>0.000000</td>\n",
       "      <td>...</td>\n",
       "      <td>0.000000</td>\n",
       "      <td>0.000000</td>\n",
       "      <td>0.000000</td>\n",
       "      <td>0.000000</td>\n",
       "      <td>0.000000</td>\n",
       "      <td>0.000000</td>\n",
       "      <td>0.000000</td>\n",
       "      <td>0.000000</td>\n",
       "      <td>0.000000</td>\n",
       "      <td>1.000000</td>\n",
       "    </tr>\n",
       "    <tr>\n",
       "      <th>25%</th>\n",
       "      <td>2.000000</td>\n",
       "      <td>1.000000</td>\n",
       "      <td>1.000000</td>\n",
       "      <td>0.000000</td>\n",
       "      <td>0.000000</td>\n",
       "      <td>0.000000</td>\n",
       "      <td>0.000000</td>\n",
       "      <td>0.000000</td>\n",
       "      <td>0.000000</td>\n",
       "      <td>0.000000</td>\n",
       "      <td>...</td>\n",
       "      <td>0.000000</td>\n",
       "      <td>0.000000</td>\n",
       "      <td>0.000000</td>\n",
       "      <td>0.000000</td>\n",
       "      <td>0.000000</td>\n",
       "      <td>0.000000</td>\n",
       "      <td>0.000000</td>\n",
       "      <td>1.000000</td>\n",
       "      <td>0.000000</td>\n",
       "      <td>1.000000</td>\n",
       "    </tr>\n",
       "    <tr>\n",
       "      <th>50%</th>\n",
       "      <td>2.000000</td>\n",
       "      <td>2.000000</td>\n",
       "      <td>2.000000</td>\n",
       "      <td>1.000000</td>\n",
       "      <td>0.000000</td>\n",
       "      <td>0.000000</td>\n",
       "      <td>0.000000</td>\n",
       "      <td>0.000000</td>\n",
       "      <td>0.000000</td>\n",
       "      <td>0.000000</td>\n",
       "      <td>...</td>\n",
       "      <td>0.000000</td>\n",
       "      <td>0.000000</td>\n",
       "      <td>0.000000</td>\n",
       "      <td>0.000000</td>\n",
       "      <td>0.000000</td>\n",
       "      <td>0.000000</td>\n",
       "      <td>0.000000</td>\n",
       "      <td>2.000000</td>\n",
       "      <td>0.000000</td>\n",
       "      <td>3.000000</td>\n",
       "    </tr>\n",
       "    <tr>\n",
       "      <th>75%</th>\n",
       "      <td>2.000000</td>\n",
       "      <td>2.000000</td>\n",
       "      <td>2.000000</td>\n",
       "      <td>2.000000</td>\n",
       "      <td>1.000000</td>\n",
       "      <td>0.000000</td>\n",
       "      <td>0.000000</td>\n",
       "      <td>0.000000</td>\n",
       "      <td>1.000000</td>\n",
       "      <td>1.000000</td>\n",
       "      <td>...</td>\n",
       "      <td>0.000000</td>\n",
       "      <td>1.000000</td>\n",
       "      <td>0.000000</td>\n",
       "      <td>2.000000</td>\n",
       "      <td>0.000000</td>\n",
       "      <td>0.000000</td>\n",
       "      <td>0.000000</td>\n",
       "      <td>2.000000</td>\n",
       "      <td>0.000000</td>\n",
       "      <td>4.000000</td>\n",
       "    </tr>\n",
       "    <tr>\n",
       "      <th>max</th>\n",
       "      <td>3.000000</td>\n",
       "      <td>3.000000</td>\n",
       "      <td>3.000000</td>\n",
       "      <td>3.000000</td>\n",
       "      <td>3.000000</td>\n",
       "      <td>3.000000</td>\n",
       "      <td>3.000000</td>\n",
       "      <td>3.000000</td>\n",
       "      <td>3.000000</td>\n",
       "      <td>3.000000</td>\n",
       "      <td>...</td>\n",
       "      <td>3.000000</td>\n",
       "      <td>3.000000</td>\n",
       "      <td>3.000000</td>\n",
       "      <td>3.000000</td>\n",
       "      <td>3.000000</td>\n",
       "      <td>3.000000</td>\n",
       "      <td>3.000000</td>\n",
       "      <td>3.000000</td>\n",
       "      <td>3.000000</td>\n",
       "      <td>6.000000</td>\n",
       "    </tr>\n",
       "  </tbody>\n",
       "</table>\n",
       "<p>8 rows × 34 columns</p>\n",
       "</div>"
      ],
      "text/plain": [
       "         erythema     scaling  definite borders     itching  \\\n",
       "count  365.000000  365.000000        365.000000  365.000000   \n",
       "mean     2.068493    1.794521          1.553425    1.361644   \n",
       "std      0.665656    0.702408          0.905126    1.136632   \n",
       "min      0.000000    0.000000          0.000000    0.000000   \n",
       "25%      2.000000    1.000000          1.000000    0.000000   \n",
       "50%      2.000000    2.000000          2.000000    1.000000   \n",
       "75%      2.000000    2.000000          2.000000    2.000000   \n",
       "max      3.000000    3.000000          3.000000    3.000000   \n",
       "\n",
       "       koeber phenomenon  polygonal papules  follicular papules  \\\n",
       "count         365.000000         365.000000          365.000000   \n",
       "mean            0.635616           0.449315            0.167123   \n",
       "std             0.908653           0.958353            0.571304   \n",
       "min             0.000000           0.000000            0.000000   \n",
       "25%             0.000000           0.000000            0.000000   \n",
       "50%             0.000000           0.000000            0.000000   \n",
       "75%             1.000000           0.000000            0.000000   \n",
       "max             3.000000           3.000000            3.000000   \n",
       "\n",
       "       oral mucosal involvement  knee and elbow invovlement  \\\n",
       "count                365.000000                  365.000000   \n",
       "mean                   0.378082                    0.613699   \n",
       "std                    0.835057                    0.984120   \n",
       "min                    0.000000                    0.000000   \n",
       "25%                    0.000000                    0.000000   \n",
       "50%                    0.000000                    0.000000   \n",
       "75%                    0.000000                    1.000000   \n",
       "max                    3.000000                    3.000000   \n",
       "\n",
       "       scalp involvement  ...  focal hypergranulosis  \\\n",
       "count         365.000000  ...             365.000000   \n",
       "mean            0.520548  ...               0.394521   \n",
       "std             0.906472  ...               0.850322   \n",
       "min             0.000000  ...               0.000000   \n",
       "25%             0.000000  ...               0.000000   \n",
       "50%             0.000000  ...               0.000000   \n",
       "75%             1.000000  ...               0.000000   \n",
       "max             3.000000  ...               3.000000   \n",
       "\n",
       "       disappearnce of the granular layer  \\\n",
       "count                          365.000000   \n",
       "mean                             0.465753   \n",
       "std                              0.865743   \n",
       "min                              0.000000   \n",
       "25%                              0.000000   \n",
       "50%                              0.000000   \n",
       "75%                              1.000000   \n",
       "max                              3.000000   \n",
       "\n",
       "       vaculoisation and damage of basil layer  spongiosis  \\\n",
       "count                               365.000000  365.000000   \n",
       "mean                                  0.457534    0.947945   \n",
       "std                                   0.955884    1.126615   \n",
       "min                                   0.000000    0.000000   \n",
       "25%                                   0.000000    0.000000   \n",
       "50%                                   0.000000    0.000000   \n",
       "75%                                   0.000000    2.000000   \n",
       "max                                   3.000000    3.000000   \n",
       "\n",
       "       saw-tooth appearnce of retes  follicular horn plug  \\\n",
       "count                    365.000000            365.000000   \n",
       "mean                       0.454795              0.104110   \n",
       "std                        0.955758              0.451018   \n",
       "min                        0.000000              0.000000   \n",
       "25%                        0.000000              0.000000   \n",
       "50%                        0.000000              0.000000   \n",
       "75%                        0.000000              0.000000   \n",
       "max                        3.000000              3.000000   \n",
       "\n",
       "       perifollicular parakeratosis  inflammatory monoluclear infiltrate  \\\n",
       "count                    365.000000                           365.000000   \n",
       "mean                       0.115068                             1.868493   \n",
       "std                        0.489357                             0.725682   \n",
       "min                        0.000000                             0.000000   \n",
       "25%                        0.000000                             1.000000   \n",
       "50%                        0.000000                             2.000000   \n",
       "75%                        0.000000                             2.000000   \n",
       "max                        3.000000                             3.000000   \n",
       "\n",
       "       band-like infiltrate   Classcode  \n",
       "count            365.000000  365.000000  \n",
       "mean               0.556164    2.805479  \n",
       "std                1.107044    1.599441  \n",
       "min                0.000000    1.000000  \n",
       "25%                0.000000    1.000000  \n",
       "50%                0.000000    3.000000  \n",
       "75%                0.000000    4.000000  \n",
       "max                3.000000    6.000000  \n",
       "\n",
       "[8 rows x 34 columns]"
      ]
     },
     "execution_count": 7,
     "metadata": {},
     "output_type": "execute_result"
    }
   ],
   "source": [
    "derm_data.describe()"
   ]
  },
  {
   "cell_type": "code",
   "execution_count": 8,
   "id": "26631170",
   "metadata": {
    "scrolled": true
   },
   "outputs": [
    {
     "name": "stderr",
     "output_type": "stream",
     "text": [
      "/var/folders/65/v5r0sb7x0sx44yw1wmchmv6c0000gn/T/ipykernel_6625/83350575.py:2: FutureWarning: The default value of numeric_only in DataFrame.corr is deprecated. In a future version, it will default to False. Select only valid columns or specify the value of numeric_only to silence this warning.\n",
      "  sns.heatmap(derm_data.corr())\n"
     ]
    },
    {
     "data": {
      "text/plain": [
       "<AxesSubplot:>"
      ]
     },
     "execution_count": 8,
     "metadata": {},
     "output_type": "execute_result"
    },
    {
     "data": {
      "image/png": "[encoded data removed]",
      "text/plain": [
       "<Figure size 1200x1200 with 2 Axes>"
      ]
     },
     "metadata": {},
     "output_type": "display_data"
    }
   ],
   "source": [
    "plt.figure(figsize=(12,12))\n",
    "sns.heatmap(derm_data.corr())"
   ]
  },
  {
   "cell_type": "markdown",
   "id": "155d0121",
   "metadata": {},
   "source": [
    "When we draw a histogram of the spread of the \"Classcode\" column, we see that there is a much higher frequency of Class 1 Disease (psoriasis) than any other disease."
   ]
  },
  {
   "cell_type": "code",
   "execution_count": 9,
   "id": "4c8d12c8",
   "metadata": {
    "scrolled": true
   },
   "outputs": [
    {
     "data": {
      "text/plain": [
       "Text(0.5, 1.0, 'Histogram of Classcodes (Disease Frequency)')"
      ]
     },
     "execution_count": 9,
     "metadata": {},
     "output_type": "execute_result"
    },
    {
     "data": {
      "image/png": "[encoded data removed]",
      "text/plain": [
       "<Figure size 640x480 with 1 Axes>"
      ]
     },
     "metadata": {},
     "output_type": "display_data"
    }
   ],
   "source": [
    "# Visualization - lots of cases of class 1 disease (psoriasis)\n",
    "plt.hist(derm_data[['Classcode']])\n",
    "plt.xlabel('Classcodes')\n",
    "plt.ylabel('Value Counts')\n",
    "plt.title('Histogram of Classcodes (Disease Frequency)')"
   ]
  },
  {
   "cell_type": "markdown",
   "id": "2d687411",
   "metadata": {},
   "source": [
    "We split our dataset into our features (34 features) and our target (1 target)."
   ]
  },
  {
   "cell_type": "code",
   "execution_count": 10,
   "id": "07a8c6d9",
   "metadata": {},
   "outputs": [],
   "source": [
    "features = derm_data[['erythema', 'scaling', 'definite borders', \n",
    "            'itching', 'koeber phenomenon', 'polygonal papules', 'follicular papules', 'oral mucosal involvement', \n",
    "            'knee and elbow invovlement', 'scalp involvement', 'family history', 'mealnin incontinence', \n",
    "            'eosinophils in the infiltrate', 'PNL infiltrate', 'fibrosis of the papillary dermis', \n",
    "            'exocytosis', 'acanthosis', 'hyperkeratosis', 'parakeratosis', 'dlubbing of the rete ridges', \n",
    "            'elongation of rete ridges', 'thinning of the suprapapillary epidermis', 'spongifrom pustule', 'munor microabcess', 'focal hypergranulosis',\n",
    "           'disappearnce of the granular layer', 'vaculoisation and damage of basil layer', 'spongiosis', 'saw-tooth appearnce of retes', 'follicular horn plug',\n",
    "           'perifollicular parakeratosis', 'inflammatory monoluclear infiltrate', 'band-like infiltrate', 'Age(linear)']]\n",
    "features = features.to_numpy()\n",
    "target = derm_data[['Classcode']]\n",
    "target = target.to_numpy()\n",
    "target = np.squeeze(target)"
   ]
  },
  {
   "cell_type": "code",
   "execution_count": 11,
   "id": "fd6d777e",
   "metadata": {
    "scrolled": true
   },
   "outputs": [
    {
     "data": {
      "text/plain": [
       "((365, 34), (365,))"
      ]
     },
     "execution_count": 11,
     "metadata": {},
     "output_type": "execute_result"
    }
   ],
   "source": [
    "features.shape, target.shape"
   ]
  },
  {
   "cell_type": "markdown",
   "id": "8a808e50",
   "metadata": {},
   "source": [
    "Now we standardize the data to ensure that our data has a standard deviation of 1."
   ]
  },
  {
   "cell_type": "code",
   "execution_count": 12,
   "id": "a904ea06",
   "metadata": {
    "scrolled": true
   },
   "outputs": [],
   "source": [
    "scaler = StandardScaler().fit(features)\n",
    "features = scaler.transform(features)"
   ]
  },
  {
   "cell_type": "code",
   "execution_count": 13,
   "id": "bebe332f",
   "metadata": {
    "scrolled": true
   },
   "outputs": [
    {
     "name": "stdout",
     "output_type": "stream",
     "text": [
      "1.0\n",
      "0.9999999999999999\n",
      "0.9999999999999998\n",
      "0.9999999999999998\n",
      "1.0\n",
      "0.9999999999999999\n",
      "1.0\n",
      "0.9999999999999998\n",
      "1.0\n",
      "1.0\n",
      "0.9999999999999997\n",
      "1.0\n",
      "1.0\n",
      "0.9999999999999999\n",
      "1.0\n",
      "1.0\n",
      "1.0\n",
      "1.0\n",
      "1.0\n",
      "1.0\n",
      "0.9999999999999998\n",
      "1.0\n",
      "1.0\n",
      "1.0\n",
      "0.9999999999999998\n",
      "1.0\n",
      "0.9999999999999999\n",
      "1.0\n",
      "0.9999999999999999\n",
      "1.0\n",
      "0.9999999999999999\n",
      "0.9999999999999999\n",
      "0.9999999999999999\n",
      "nan\n"
     ]
    }
   ],
   "source": [
    "# Successfully standardized the features\n",
    "for i in range(features.shape[1]):\n",
    "    print(np.std(features[:,i]))"
   ]
  },
  {
   "cell_type": "markdown",
   "id": "7e56ca72",
   "metadata": {},
   "source": [
    "Now we define our logit function that will take in our features, and our randomly initialized $w_0$ (weight parameter) and $b_0$ (bias parameter) and calculate a logit score for each feature. As a reminder, a logit function (log-odds function) calculates the probability of a certain event occurring in the domain of [0,1]. It is the inverse of the logistic sigmoid function, which predicts probabilities in the range of [0,1]."
   ]
  },
  {
   "cell_type": "code",
   "execution_count": 14,
   "id": "b351cd35",
   "metadata": {},
   "outputs": [],
   "source": [
    "def logitscores(features, w_0, b_0):\n",
    "    logitvalues = np.zeros(shape=(features.shape[0],6))\n",
    "    for i in range(len(logitvalues)):\n",
    "        # For every row in the features dataframe, take the dot product with the weights and add the bias\n",
    "        # w^Tx + b => hyperplane\n",
    "        logit = np.squeeze(np.dot(w_0, features[i]) + np.transpose(b_0))\n",
    "        logitvalues[i,:] = logit\n",
    "    return logitvalues"
   ]
  },
  {
   "cell_type": "markdown",
   "id": "5b448cee",
   "metadata": {},
   "source": [
    "Now we define a softmax function. In multinomial logistic regression, we use a softmax function, which calculates the probabilities of K possible outcomes for a vector of K numbers. This is a generalization of the sigmoid function used in binary logistic regression. The softmax function is:\n",
    "\n",
    "$$\\sigma(\\mathbf{z})_i = \\frac{e^{z_i}}{\\sum_{j=1}^K e^{z_j}}$$"
   ]
  },
  {
   "cell_type": "code",
   "execution_count": 15,
   "id": "eb2f1200",
   "metadata": {},
   "outputs": [],
   "source": [
    "def softmax(logitvalues, axis=-1):\n",
    "    K_prob = np.zeros(logitvalues.shape)\n",
    "    # We us kw to scale the softmax values to be between 0 and 1\n",
    "    kw = dict(axis=axis, keepdims = True)\n",
    "    logitvalues = logitvalues - logitvalues.max(**kw)\n",
    "    for i in range(logitvalues.shape[0]):\n",
    "        # Use the definition of the softmax function\n",
    "        a = np.exp(logitvalues[i])\n",
    "        b = a/a.sum(**kw)\n",
    "        K_prob[i] = b\n",
    "    return K_prob"
   ]
  },
  {
   "cell_type": "markdown",
   "id": "6ec138e8",
   "metadata": {},
   "source": [
    "Now we define our Logisitc Regression function. We calculate the logit scores, the probability matrix (the probability of each data point (person) being classified in each class (from 1-6), and classify each data point (person) into the class with the highest probability."
   ]
  },
  {
   "cell_type": "code",
   "execution_count": 16,
   "id": "76f20351",
   "metadata": {},
   "outputs": [],
   "source": [
    "def TrainingLogisticRegression(X_train, w_0, b_0):\n",
    "    logits = logitscores(X_train, w_0, b_0)\n",
    "    K_prob = softmax(logits)\n",
    "    K_prob = np.nan_to_num(K_prob,10**-10)\n",
    "    predict = np.zeros(shape=X_train.shape[0])\n",
    "    for i in range(K_prob.shape[0]):\n",
    "        predict[i] = np.argmax(K_prob[i])\n",
    "    return K_prob, predict"
   ]
  },
  {
   "cell_type": "markdown",
   "id": "417fa739",
   "metadata": {},
   "source": [
    "We initialize random weights and biases to test our functions."
   ]
  },
  {
   "cell_type": "code",
   "execution_count": 17,
   "id": "6a770982",
   "metadata": {},
   "outputs": [],
   "source": [
    "w_0 = np.random.randn(6, 34)\n",
    "b_0 = np.random.randn(6,1)"
   ]
  },
  {
   "cell_type": "code",
   "execution_count": 18,
   "id": "d3140606",
   "metadata": {
    "scrolled": false
   },
   "outputs": [
    {
     "name": "stdout",
     "output_type": "stream",
     "text": [
      "(365, 6)\n",
      "(365,)\n"
     ]
    }
   ],
   "source": [
    "K_prob, predict = TrainingLogisticRegression(features, w_0, b_0)\n",
    "print(K_prob.shape)\n",
    "print(predict.shape)"
   ]
  },
  {
   "cell_type": "code",
   "execution_count": 19,
   "id": "a81744db",
   "metadata": {},
   "outputs": [],
   "source": [
    "def model_accuracy(predict, target):\n",
    "    return 100.0 * np.sum(predict == target)/len(target)"
   ]
  },
  {
   "cell_type": "code",
   "execution_count": 20,
   "id": "a82aa7f0",
   "metadata": {
    "scrolled": true
   },
   "outputs": [
    {
     "data": {
      "text/plain": [
       "21.91780821917808"
      ]
     },
     "execution_count": 20,
     "metadata": {},
     "output_type": "execute_result"
    }
   ],
   "source": [
    "model_accuracy(predict, target)"
   ]
  },
  {
   "cell_type": "markdown",
   "id": "3c6e3a8f",
   "metadata": {},
   "source": [
    "The model accuracy is pretty low since this it is generic, so we will improve our model by optimizing hyperparameters."
   ]
  },
  {
   "cell_type": "markdown",
   "id": "fdd22d9e",
   "metadata": {},
   "source": [
    "### Optimizing our model"
   ]
  },
  {
   "cell_type": "markdown",
   "id": "60684a29",
   "metadata": {},
   "source": [
    "We split our data into training and testing data."
   ]
  },
  {
   "cell_type": "code",
   "execution_count": 21,
   "id": "ec6b6a53",
   "metadata": {},
   "outputs": [],
   "source": [
    "# running train_test_split for our dataset\n",
    "train_features, test_features, train_target, test_target = train_test_split(features,target,test_size = 0.2)"
   ]
  },
  {
   "cell_type": "code",
   "execution_count": 22,
   "id": "743e9779",
   "metadata": {
    "scrolled": true
   },
   "outputs": [
    {
     "data": {
      "text/plain": [
       "((292, 34), (73, 34), (292,), (73,))"
      ]
     },
     "execution_count": 22,
     "metadata": {},
     "output_type": "execute_result"
    }
   ],
   "source": [
    "train_features.shape, test_features.shape, train_target.shape, test_target.shape"
   ]
  },
  {
   "cell_type": "markdown",
   "id": "cdb05a65",
   "metadata": {},
   "source": [
    "We scale the data to ensure a standard deviation of 1"
   ]
  },
  {
   "cell_type": "code",
   "execution_count": 23,
   "id": "63d2d769",
   "metadata": {},
   "outputs": [],
   "source": [
    "scaler = StandardScaler().fit(train_features)\n",
    "train_features = scaler.transform(train_features)\n",
    "scaler = StandardScaler().fit(test_features)\n",
    "test_features = scaler.transform(test_features)"
   ]
  },
  {
   "cell_type": "code",
   "execution_count": 24,
   "id": "7929fc2d",
   "metadata": {
    "scrolled": true
   },
   "outputs": [
    {
     "name": "stdout",
     "output_type": "stream",
     "text": [
      "0.9999999999999983\n",
      "0.9999999999999999\n",
      "0.9999999999999982\n",
      "1.0000000000000009\n",
      "0.9999999999999988\n",
      "0.9999999999999993\n",
      "0.9999999999999993\n",
      "1.0000000000000016\n",
      "1.0000000000000004\n",
      "1.0\n",
      "0.9999999999999982\n",
      "1.0\n",
      "1.000000000000002\n",
      "1.0000000000000004\n",
      "0.9999999999999978\n",
      "1.0\n",
      "1.0000000000000013\n",
      "0.9999999999999997\n",
      "1.0000000000000016\n",
      "1.0000000000000016\n",
      "1.0000000000000004\n",
      "0.9999999999999988\n",
      "0.9999999999999982\n",
      "1.000000000000001\n",
      "1.0000000000000016\n",
      "0.9999999999999986\n",
      "0.9999999999999978\n",
      "1.0\n",
      "0.9999999999999991\n",
      "1.000000000000004\n",
      "0.9999999999999972\n",
      "1.000000000000002\n",
      "0.9999999999999998\n",
      "nan\n",
      "0.9999999999999999\n",
      "1.0\n",
      "1.0000000000000004\n",
      "1.0\n",
      "1.0\n",
      "1.0000000000000004\n",
      "0.9999999999999993\n",
      "1.0000000000000004\n",
      "0.9999999999999994\n",
      "1.0000000000000007\n",
      "0.9999999999999994\n",
      "0.9999999999999996\n",
      "1.0000000000000004\n",
      "0.9999999999999999\n",
      "0.9999999999999999\n",
      "1.0\n",
      "1.0000000000000004\n",
      "0.9999999999999999\n",
      "0.9999999999999999\n",
      "1.0000000000000004\n",
      "0.9999999999999998\n",
      "1.0000000000000004\n",
      "1.0000000000000004\n",
      "1.0000000000000002\n",
      "1.0000000000000002\n",
      "0.9999999999999993\n",
      "1.0000000000000007\n",
      "1.0\n",
      "0.9999999999999993\n",
      "0.9999999999999994\n",
      "0.999999999999999\n",
      "1.0\n",
      "0.9999999999999999\n",
      "nan\n"
     ]
    }
   ],
   "source": [
    "for i in range(train_features.shape[1]):\n",
    "    print(np.std(train_features[:,i]))\n",
    "for i in range(test_features.shape[1]):\n",
    "    print(np.std(test_features[:,i]))"
   ]
  },
  {
   "cell_type": "markdown",
   "id": "e0455469",
   "metadata": {},
   "source": [
    "In multinomial logistic regression, maximizing the likelihood of the parameters is equivalent to minimizing the cross-entropy loss. We will define our cross-entropy loss function that we will later minimize using an algorithm. \n",
    "\n",
    "As a reminder, cross-entropy loss is defined as:\n",
    "\n",
    "$$J(\\theta) = -[\\sum_{i=1}^m y^{(i)} \\log h_{\\theta} (x^{(i)}) + (1-y^{(i)} \\log (1- h_{\\theta}(x^{(i)}))]$$\n",
    "\n",
    "where $(x^{(i)}, y^{(i)})$ correspond to a data point from our training set and $h_{\\theta}$ is the probability of our parameter set being equal to $\\theta$."
   ]
  },
  {
   "cell_type": "code",
   "execution_count": 25,
   "id": "91969d1b",
   "metadata": {},
   "outputs": [],
   "source": [
    "def CELoss(K_prob, target):\n",
    "    target = target-1\n",
    "    total_loss = 0\n",
    "    for i in target:\n",
    "        total_loss += -np.log(K_prob[i])\n",
    "    avg_loss = total_loss/K_prob.shape[0]\n",
    "    return np.average(avg_loss)"
   ]
  },
  {
   "cell_type": "markdown",
   "id": "e25c7d1d",
   "metadata": {},
   "source": [
    "We use Stochastic Gradient Descent to minimize our cross-entropy loss. We calculate the probability matrix (the probability of each data point (person) being classified in each class (from 1-6)) and the prediction vector (the predicted class of each data point (person) based on the highest probability). We then find the gradient of our $w_0$ weight vector and $b_0$ bias vector and implement the algorithm:\n",
    "\n",
    "$$w_{k+1} = w_k - (\\alpha * \\nabla(f(w_k)))$$\n",
    "$$b_{k+1} = b_k - (\\alpha * \\nabla(f(b_k)))$$\n",
    "\n",
    "for $i = 1,...,\\text{K_max}$ where $\\text{K_max}$ is the maximum number of iterations."
   ]
  },
  {
   "cell_type": "code",
   "execution_count": 26,
   "id": "f6890d36",
   "metadata": {},
   "outputs": [],
   "source": [
    "def SGD(alpha, K_max, target, features, w_0, b_0):\n",
    "\n",
    "    loss_function = np.zeros(features.shape[0])\n",
    " \n",
    "    for i in range(K_max):\n",
    "        prob,predict = TrainingLogisticRegression(features, w_0, b_0)\n",
    "        loss_function[i] = CELoss(prob, target)\n",
    "        prob[np.arange(features.shape[0]),target] -= 1\n",
    "        \n",
    "        grad_weight = np.dot(prob.T,features)\n",
    "        grad_biases = np.matrix(np.sum(prob, axis = 0)).T\n",
    "        \n",
    "        w_0 -= (alpha * grad_weight)\n",
    "        b_0 -= (alpha * grad_biases)\n",
    "        \n",
    "    return w_0,b_0,loss_function"
   ]
  },
  {
   "cell_type": "markdown",
   "id": "e74275d0",
   "metadata": {},
   "source": [
    "We initialize random $w_0$ and $b_0$ and run our SGD algorithm."
   ]
  },
  {
   "cell_type": "code",
   "execution_count": 27,
   "id": "e15430ee",
   "metadata": {},
   "outputs": [],
   "source": [
    "w_0 = np.random.randn(6, 34)\n",
    "b_0 = np.random.randn(6,1)"
   ]
  },
  {
   "cell_type": "code",
   "execution_count": 28,
   "id": "0e4a5ccf",
   "metadata": {
    "scrolled": true
   },
   "outputs": [
    {
     "name": "stderr",
     "output_type": "stream",
     "text": [
      "/var/folders/65/v5r0sb7x0sx44yw1wmchmv6c0000gn/T/ipykernel_6625/3864495697.py:5: RuntimeWarning: divide by zero encountered in log\n",
      "  total_loss += -np.log(K_prob[i])\n"
     ]
    }
   ],
   "source": [
    "w_star, b_star, loss_function = SGD(0.1, 10, train_target-1, train_features, w_0, b_0)"
   ]
  },
  {
   "cell_type": "code",
   "execution_count": 29,
   "id": "8fa53c9f",
   "metadata": {
    "scrolled": true
   },
   "outputs": [],
   "source": [
    "w_star = np.nan_to_num(w_star,0)"
   ]
  },
  {
   "cell_type": "code",
   "execution_count": 30,
   "id": "93fb3256",
   "metadata": {
    "scrolled": true
   },
   "outputs": [
    {
     "data": {
      "text/plain": [
       "93.15068493150685"
      ]
     },
     "execution_count": 30,
     "metadata": {},
     "output_type": "execute_result"
    }
   ],
   "source": [
    "test_prob, test_pred = TrainingLogisticRegression(test_features, w_star, b_star)\n",
    "test_pred = test_pred + 1\n",
    "\n",
    "model_accuracy(test_pred, test_target)"
   ]
  },
  {
   "cell_type": "markdown",
   "id": "f78fce48",
   "metadata": {},
   "source": [
    "---------"
   ]
  },
  {
   "cell_type": "markdown",
   "id": "7fc66e81",
   "metadata": {},
   "source": [
    "We can compare the accuracy of our model with the built-in LogisticRegression function in sklearn."
   ]
  },
  {
   "cell_type": "code",
   "execution_count": 31,
   "id": "817e9c84",
   "metadata": {},
   "outputs": [],
   "source": [
    "train_features = train_features.astype('float')\n",
    "test_features = test_features.astype('float')"
   ]
  },
  {
   "cell_type": "code",
   "execution_count": 32,
   "id": "884efceb",
   "metadata": {},
   "outputs": [],
   "source": [
    "train_features = np.nan_to_num(train_features,0)\n",
    "test_features = np.nan_to_num(test_features,0)"
   ]
  },
  {
   "cell_type": "markdown",
   "id": "69fcbfd7",
   "metadata": {},
   "source": [
    "We use the LogisticRegression function in sklearn, with argument multiclass = 'multinomial'."
   ]
  },
  {
   "cell_type": "code",
   "execution_count": 33,
   "id": "c7047869",
   "metadata": {
    "scrolled": true
   },
   "outputs": [
    {
     "name": "stdout",
     "output_type": "stream",
     "text": [
      "0.9452054794520548\n"
     ]
    }
   ],
   "source": [
    "model = LogisticRegression(solver = 'newton-cg', multi_class = 'multinomial')\n",
    "model.fit(train_features, train_target)\n",
    "class_pred = model.predict(train_features)\n",
    "score = model.score(test_features, np.squeeze(test_target))\n",
    "print(score)"
   ]
  },
  {
   "cell_type": "markdown",
   "id": "de2151cc",
   "metadata": {},
   "source": [
    "The sklearn accuracy score is very similar to our accuracy score."
   ]
  },
  {
   "cell_type": "markdown",
   "id": "60132b79",
   "metadata": {},
   "source": [
    "We also do 5-fold cross validation and take the average to find the average model accuracy of our five repetitions."
   ]
  },
  {
   "cell_type": "code",
   "execution_count": 34,
   "id": "bacf28fc",
   "metadata": {},
   "outputs": [
    {
     "data": {
      "text/plain": [
       "array([0.94915254, 0.98305085, 0.98275862, 0.96551724, 0.94827586])"
      ]
     },
     "execution_count": 34,
     "metadata": {},
     "output_type": "execute_result"
    }
   ],
   "source": [
    "cross_val = LogisticRegression(solver='newton-cg', multi_class='multinomial')\n",
    "scores = cross_val_score(cross_val, train_features, train_target, cv=5)\n",
    "scores"
   ]
  },
  {
   "cell_type": "code",
   "execution_count": 35,
   "id": "8ee7b912",
   "metadata": {
    "scrolled": false
   },
   "outputs": [
    {
     "name": "stdout",
     "output_type": "stream",
     "text": [
      "Accuracy: 0.97 (+/- 0.03)\n"
     ]
    }
   ],
   "source": [
    "print(\"Accuracy: %0.2f (+/- %0.2f)\" % (scores.mean(), scores.std() * 2))"
   ]
  },
  {
   "cell_type": "markdown",
   "id": "416d6b58",
   "metadata": {},
   "source": [
    "The accuracy is very high, similar to our model."
   ]
  },
  {
   "cell_type": "markdown",
   "id": "caad565a",
   "metadata": {},
   "source": [
    "This was an implementation of multinomial logistic regression on a dataset to classify people into six different disease classes based on 34 features using the publicly available dataset from https://archive.ics.uci.edu/ml/datasets/dermatology."
   ]
  }
 ],
 "metadata": {
  "kernelspec": {
   "display_name": "Python 3 (ipykernel)",
   "language": "python",
   "name": "python3"
  },
  "language_info": {
   "codemirror_mode": {
    "name": "ipython",
    "version": 3
   },
   "file_extension": ".py",
   "mimetype": "text/x-python",
   "name": "python",
   "nbconvert_exporter": "python",
   "pygments_lexer": "ipython3",
   "version": "3.8.15"
  }
 },
 "nbformat": 4,
 "nbformat_minor": 5
}
